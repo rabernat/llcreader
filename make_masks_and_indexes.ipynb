{
 "cells": [
  {
   "cell_type": "code",
   "execution_count": 1,
   "metadata": {},
   "outputs": [],
   "source": [
    "import xarray as xr\n",
    "import zarr\n",
    "from xmitgcm import open_mdsdataset\n",
    "import lzma\n",
    "from numcodecs import LZMA\n",
    "from dask.diagnostics import ProgressBar"
   ]
  },
  {
   "cell_type": "code",
   "execution_count": 2,
   "metadata": {},
   "outputs": [],
   "source": [
    "lzma_filters = [dict(id=lzma.FILTER_DELTA, dist=1),\n",
    "                dict(id=lzma.FILTER_LZMA2, preset=1)]\n",
    "compressor = LZMA(filters=lzma_filters, format=lzma.FORMAT_RAW)"
   ]
  },
  {
   "cell_type": "code",
   "execution_count": 14,
   "metadata": {},
   "outputs": [],
   "source": [
    "def create_mask_ds(ds):\n",
    "    mask_c = (ds.hFacC > 0).reset_coords(drop=True).rename('mask_c')\n",
    "    mask_w = (ds.hFacW > 0).reset_coords(drop=True).rename('mask_w')\n",
    "    mask_s = (ds.hFacS > 0).reset_coords(drop=True).rename('mask_s')\n",
    "\n",
    "    ds_mask = xr.merge([mask_c, mask_w, mask_s])\n",
    "    for c in ds_mask.coords:\n",
    "        ds_mask[c] = ds_mask[c].astype('i2')\n",
    "    ds_mask = ds_mask.chunk({'k': 1, 'face': -1})\n",
    "    for v in ds_mask.data_vars:\n",
    "        ds_mask[v].encoding.update({'compressor': compressor})\n",
    "    return ds_mask"
   ]
  },
  {
   "cell_type": "code",
   "execution_count": 57,
   "metadata": {},
   "outputs": [],
   "source": [
    "dsets = {#'4320': '/home6/dmenemen/llc_4320/grid',\n",
    "         #'2160': '/home6/dmenemen/llc_2160/grid',\n",
    "         '1080': '/home6/dmenemen/llc_1080/grid'\n",
    "        }"
   ]
  },
  {
   "cell_type": "code",
   "execution_count": 63,
   "metadata": {},
   "outputs": [
    {
     "name": "stdout",
     "output_type": "stream",
     "text": [
      "1080 /home6/dmenemen/llc_1080/grid\n"
     ]
    },
    {
     "name": "stderr",
     "output_type": "stream",
     "text": [
      "/nobackup/rpaberna/conda/envs/pangeo-2019-05-21/lib/python3.6/site-packages/xmitgcm/mds_store.py:837: UserWarning: Couldn't find available_diagnostics.log in /home6/dmenemen/llc_1080/grid or /home6/dmenemen/llc_1080/grid. Using default version.\n",
      "  \"in %s or %s. Using default version.\" % (data_dir, grid_dir))\n"
     ]
    },
    {
     "name": "stdout",
     "output_type": "stream",
     "text": [
      "[########################################] | 100% Completed | 14.4s\n"
     ]
    }
   ],
   "source": [
    "outdir = '/nobackup/rpaberna/llc/masks/'\n",
    "for name, grid_dir in dsets.items():\n",
    "    print(name, grid_dir)\n",
    "    ds = open_mdsdataset(grid_dir, iters=None, geometry='llc')\n",
    "    grid_ds = create_mask_ds(ds)\n",
    "    outname = f'{outdir}/llc_{name}_masks.zarr'\n",
    "    with ProgressBar():\n",
    "        grid_ds.to_zarr(outname, consolidated=True, mode='w')"
   ]
  },
  {
   "cell_type": "code",
   "execution_count": 75,
   "metadata": {},
   "outputs": [],
   "source": [
    "def check_mask_length(ds):\n",
    "    for vname in ds.data_vars:\n",
    "        with ProgressBar():\n",
    "            nbytes = ds[vname].sum().values * 4\n",
    "        print(vname, nbytes)\n",
    "        \n",
    "from llcreader import random_utils\n",
    "def generate_indexes(ds):\n",
    "    index = {}\n",
    "    for point in 'c', 'w', 's':\n",
    "        mask_var = 'mask_' + point\n",
    "        mask_data = ds[mask_var].data\n",
    "        with ProgressBar():\n",
    "            index[point] = random_utils.face_mask_to_facet_index_list(mask_data)\n",
    "    return index"
   ]
  },
  {
   "cell_type": "code",
   "execution_count": 101,
   "metadata": {},
   "outputs": [
    {
     "name": "stdout",
     "output_type": "stream",
     "text": [
      "[########################################] | 100% Completed |  9.0s\n",
      "mask_c 39893288036\n",
      "[########################################] | 100% Completed |  8.0s\n",
      "mask_s 39833916904\n",
      "[########################################] | 100% Completed |  7.7s\n",
      "mask_w 39836455336\n",
      "[########################################] | 100% Completed |  7.8s\n",
      "[########################################] | 100% Completed |  7.7s\n",
      "[########################################] | 100% Completed |  7.8s\n"
     ]
    }
   ],
   "source": [
    "all_indexes = {}\n",
    "for name in ['4320']:\n",
    "    fname = f'/nobackup/rpaberna/llc/masks/llc_{name}_masks.zarr/'\n",
    "    ds_zarr = xr.open_zarr(fname, consolidated=True)\n",
    "    check_mask_length(ds_zarr)\n",
    "    all_indexes[int(name)] = generate_indexes(ds_zarr)"
   ]
  },
  {
   "cell_type": "code",
   "execution_count": 102,
   "metadata": {},
   "outputs": [],
   "source": [
    "from pprint import pprint\n",
    "with open('llcreader/shrunk_index.py', mode='w') as f:\n",
    "    f.write('all_index_data = \\\\\\n')\n",
    "    pprint(all_indexes, stream=f, compact=True)"
   ]
  },
  {
   "cell_type": "code",
   "execution_count": null,
   "metadata": {},
   "outputs": [],
   "source": []
  }
 ],
 "metadata": {
  "kernelspec": {
   "display_name": "Python 3",
   "language": "python",
   "name": "python3"
  },
  "language_info": {
   "codemirror_mode": {
    "name": "ipython",
    "version": 3
   },
   "file_extension": ".py",
   "mimetype": "text/x-python",
   "name": "python",
   "nbconvert_exporter": "python",
   "pygments_lexer": "ipython3",
   "version": "3.6.7"
  }
 },
 "nbformat": 4,
 "nbformat_minor": 2
}
