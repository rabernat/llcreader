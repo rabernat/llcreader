{
 "cells": [
  {
   "cell_type": "code",
   "execution_count": 10,
   "metadata": {},
   "outputs": [],
   "source": [
    "import xarray as xr\n",
    "import gcsfs\n",
    "import numpy as np\n",
    "from matplotlib import pyplot as plt\n",
    "%matplotlib inline\n",
    "import zarr\n",
    "import dask.array as dsa\n",
    "from importlib import reload"
   ]
  },
  {
   "cell_type": "code",
   "execution_count": null,
   "metadata": {},
   "outputs": [],
   "source": []
  },
  {
   "cell_type": "code",
   "execution_count": 3,
   "metadata": {},
   "outputs": [],
   "source": [
    "gcs = gcsfs.GCSFileSystem(token='anon')\n",
    "gcsmap = gcsfs.GCSMap('pangeo-ecco/llc/masks/llc_4320_masks.zarr', gcs=gcs)\n",
    "#mask = xr.open_zarr(gcsmap)\n",
    "#mask"
   ]
  },
  {
   "cell_type": "code",
   "execution_count": 6,
   "metadata": {},
   "outputs": [],
   "source": [
    "zgroup = zarr.open_group(gcsmap)"
   ]
  },
  {
   "cell_type": "code",
   "execution_count": 8,
   "metadata": {},
   "outputs": [
    {
     "data": {
      "text/plain": [
       "dask.array<astype, shape=(90, 13, 4320, 4320), dtype=bool, chunksize=(1, 13, 4320, 4320)>"
      ]
     },
     "execution_count": 8,
     "metadata": {},
     "output_type": "execute_result"
    }
   ],
   "source": [
    "mask = dsa.from_zarr(gcsmap, component='mask_c').astype('bool')\n",
    "mask"
   ]
  },
  {
   "cell_type": "code",
   "execution_count": 82,
   "metadata": {},
   "outputs": [
    {
     "data": {
      "text/plain": [
       "dask.array<sum-aggregate, shape=(90, 13), dtype=int64, chunksize=(1, 13)>"
      ]
     },
     "execution_count": 82,
     "metadata": {},
     "output_type": "execute_result"
    }
   ],
   "source": [
    "index = mask.sum(axis=(2, 3))\n",
    "index"
   ]
  },
  {
   "cell_type": "code",
   "execution_count": 83,
   "metadata": {},
   "outputs": [],
   "source": [
    "index = index.compute()"
   ]
  },
  {
   "cell_type": "code",
   "execution_count": 92,
   "metadata": {},
   "outputs": [
    {
     "data": {
      "text/plain": [
       "(90, 5)"
      ]
     },
     "execution_count": 92,
     "metadata": {},
     "output_type": "execute_result"
    }
   ],
   "source": [
    "_facet_strides = ((0,3), (3,6), (6,7), (7,10), (10,13))\n",
    "index_facets = np.array([list(index[:, slice(*stride)].sum(axis=1)) for stride in _facet_strides]).transpose()\n",
    "index_facets.shape"
   ]
  },
  {
   "cell_type": "code",
   "execution_count": 11,
   "metadata": {},
   "outputs": [],
   "source": [
    "from llcreader import random_utils\n",
    "random_utils = reload(random_utils)"
   ]
  },
  {
   "cell_type": "code",
   "execution_count": 12,
   "metadata": {},
   "outputs": [],
   "source": [
    "index_cum = random_utils.face_mask_to_facet_index_list(mask)"
   ]
  },
  {
   "cell_type": "code",
   "execution_count": 13,
   "metadata": {},
   "outputs": [
    {
     "data": {
      "text/plain": [
       "[0,\n",
       " 30602155,\n",
       " 54676876,\n",
       " 68235120,\n",
       " 109163879,\n",
       " 140637966,\n",
       " 171240121,\n",
       " 195314842,\n",
       " 208873086,\n",
       " 249801845,\n",
       " 281275932,\n",
       " 311878087,\n",
       " 335952808,\n",
       " 349511052,\n",
       " 390439811,\n",
       " 421913898,\n",
       " 452516053,\n",
       " 476590774,\n",
       " 490149018,\n",
       " 531077777,\n",
       " 562551864,\n",
       " 593088331,\n",
       " 617052095,\n",
       " 630506834,\n",
       " 671365400,\n",
       " 702736069,\n",
       " 733238445,\n",
       " 757164783,\n",
       " 770580978,\n",
       " 811416669,\n",
       " 842743353,\n",
       " 873205456,\n",
       " 897071890,\n",
       " 910425041,\n",
       " 951230825,\n",
       " 982493335,\n",
       " 1012900517,\n",
       " 1036704557,\n",
       " 1049915884,\n",
       " 1090679932,\n",
       " 1121886564,\n",
       " 1152237518,\n",
       " 1175989376,\n",
       " 1189115612,\n",
       " 1229844239,\n",
       " 1260997777,\n",
       " 1291293387,\n",
       " 1314990298,\n",
       " 1327961666,\n",
       " 1368646832,\n",
       " 1399738524,\n",
       " 1429971598,\n",
       " 1453600032,\n",
       " 1466435977,\n",
       " 1507065309,\n",
       " 1538078770,\n",
       " 1568232413,\n",
       " 1591773562,\n",
       " 1604395293,\n",
       " 1644939361,\n",
       " 1675860918,\n",
       " 1705943639,\n",
       " 1729402193,\n",
       " 1741869003,\n",
       " 1782327979,\n",
       " 1813170623,\n",
       " 1843159862,\n",
       " 1866520380,\n",
       " 1878837709,\n",
       " 1919196195,\n",
       " 1949959935,\n",
       " 1979850337,\n",
       " 2003100083,\n",
       " 2015229013,\n",
       " 2055469488,\n",
       " 2086148293,\n",
       " 2115947740,\n",
       " 2139097777,\n",
       " 2150983604,\n",
       " 2191066949,\n",
       " 2221648359,\n",
       " 2251350543,\n",
       " 2274392811,\n",
       " 2286028080,\n",
       " 2325924007,\n",
       " 2356392114,\n",
       " 2385960359,\n",
       " 2408816853,\n",
       " 2420203109,\n",
       " 2459877435,\n",
       " 2490217054,\n",
       " 2519678416,\n",
       " 2542380501,\n",
       " 2553570276,\n",
       " 2593141555,\n",
       " 2623357264,\n",
       " 2652711916,\n",
       " 2675314344,\n",
       " 2686339659,\n",
       " 2725818490,\n",
       " 2755902771,\n",
       " 2785152560,\n",
       " 2807658538,\n",
       " 2818526378,\n",
       " 2857904628,\n",
       " 2887828109,\n",
       " 2916968915,\n",
       " 2939373405,\n",
       " 2950057573,\n",
       " 2989346758,\n",
       " 3019101354,\n",
       " 3048098549,\n",
       " 3070385298,\n",
       " 3080833398,\n",
       " 3120018528,\n",
       " 3149508390,\n",
       " 3178394453,\n",
       " 3200614402,\n",
       " 3210900462,\n",
       " 3250007626,\n",
       " 3279322134,\n",
       " 3308100976,\n",
       " 3330262754,\n",
       " 3340397261,\n",
       " 3379426284,\n",
       " 3408584466,\n",
       " 3437260234,\n",
       " 3459366488,\n",
       " 3469324885,\n",
       " 3508265313,\n",
       " 3537262149,\n",
       " 3565836917,\n",
       " 3587886994,\n",
       " 3597638882,\n",
       " 3636492956,\n",
       " 3665310324,\n",
       " 3693797270,\n",
       " 3715785624,\n",
       " 3725320778,\n",
       " 3764083861,\n",
       " 3792745766,\n",
       " 3821124304,\n",
       " 3843032679,\n",
       " 3852229002,\n",
       " 3890883765,\n",
       " 3919346220,\n",
       " 3947629992,\n",
       " 3969478130,\n",
       " 3978428366,\n",
       " 4017004855,\n",
       " 4045334464,\n",
       " 4073532386,\n",
       " 4095332342,\n",
       " 4103994945,\n",
       " 4142521781,\n",
       " 4170746509,\n",
       " 4198855210,\n",
       " 4220607634,\n",
       " 4228989433,\n",
       " 4267468277,\n",
       " 4295582969,\n",
       " 4323586325,\n",
       " 4345288981,\n",
       " 4353376474,\n",
       " 4391808756,\n",
       " 4419811184,\n",
       " 4447671119,\n",
       " 4469318824,\n",
       " 4477129332,\n",
       " 4515510316,\n",
       " 4543346285,\n",
       " 4571106397,\n",
       " 4592689589,\n",
       " 4600257693,\n",
       " 4638580422,\n",
       " 4666284639,\n",
       " 4693956228,\n",
       " 4715467436,\n",
       " 4722848937,\n",
       " 4761096974,\n",
       " 4788631656,\n",
       " 4816213337,\n",
       " 4837658988,\n",
       " 4844846354,\n",
       " 4882931166,\n",
       " 4910297061,\n",
       " 4937777246,\n",
       " 4959157618,\n",
       " 4966188638,\n",
       " 5004129178,\n",
       " 5031294418,\n",
       " 5058693448,\n",
       " 5080007677,\n",
       " 5086909324,\n",
       " 5124750941,\n",
       " 5151735503,\n",
       " 5179061075,\n",
       " 5200306218,\n",
       " 5207100352,\n",
       " 5244807713,\n",
       " 5271605833,\n",
       " 5298866013,\n",
       " 5320042161,\n",
       " 5326755556,\n",
       " 5364276381,\n",
       " 5390851548,\n",
       " 5418052799,\n",
       " 5439166296,\n",
       " 5445803675,\n",
       " 5483194351,\n",
       " 5509615928,\n",
       " 5536754217,\n",
       " 5557802993,\n",
       " 5564367037,\n",
       " 5601579060,\n",
       " 5627865766,\n",
       " 5654937599,\n",
       " 5675927205,\n",
       " 5682431176,\n",
       " 5719491085,\n",
       " 5745677045,\n",
       " 5772690348,\n",
       " 5793623518,\n",
       " 5800079338,\n",
       " 5837066485,\n",
       " 5863175371,\n",
       " 5890130867,\n",
       " 5911012583,\n",
       " 5917420860,\n",
       " 5954342271,\n",
       " 5980381294,\n",
       " 6007278894,\n",
       " 6028119672,\n",
       " 6034485052,\n",
       " 6071342783,\n",
       " 6097318860,\n",
       " 6124158038,\n",
       " 6144963980,\n",
       " 6151281570,\n",
       " 6188069335,\n",
       " 6213983491,\n",
       " 6240757155,\n",
       " 6261529853,\n",
       " 6267801161,\n",
       " 6304513069,\n",
       " 6330359481,\n",
       " 6357070314,\n",
       " 6377809314,\n",
       " 6384042871,\n",
       " 6420693900,\n",
       " 6446479451,\n",
       " 6473128103,\n",
       " 6493832566,\n",
       " 6500026637,\n",
       " 6536615832,\n",
       " 6562344768,\n",
       " 6588929930,\n",
       " 6609598742,\n",
       " 6615753898,\n",
       " 6652277218,\n",
       " 6677952673,\n",
       " 6704467138,\n",
       " 6725099444,\n",
       " 6731206423,\n",
       " 6767653504,\n",
       " 6793273994,\n",
       " 6819714167,\n",
       " 6840307840,\n",
       " 6846373002,\n",
       " 6882744393,\n",
       " 6908309378,\n",
       " 6934670408,\n",
       " 6955222518,\n",
       " 6961243879,\n",
       " 6997539390,\n",
       " 7023046396,\n",
       " 7049318451,\n",
       " 7069824819,\n",
       " 7075796679,\n",
       " 7112009820,\n",
       " 7137456851,\n",
       " 7163637402,\n",
       " 7184095515,\n",
       " 7189997353,\n",
       " 7226117354,\n",
       " 7251503347,\n",
       " 7277592617,\n",
       " 7297999880,\n",
       " 7303853290,\n",
       " 7339877908,\n",
       " 7365202320,\n",
       " 7391189853,\n",
       " 7411541647,\n",
       " 7417346992,\n",
       " 7453273420,\n",
       " 7478531712,\n",
       " 7504409328,\n",
       " 7524702136,\n",
       " 7530444382,\n",
       " 7566268987,\n",
       " 7591458136,\n",
       " 7617216520,\n",
       " 7637445266,\n",
       " 7643113217,\n",
       " 7678835848,\n",
       " 7703954279,\n",
       " 7729590347,\n",
       " 7749751767,\n",
       " 7755357037,\n",
       " 7790982689,\n",
       " 7816026766,\n",
       " 7841536283,\n",
       " 7861621972,\n",
       " 7867152304,\n",
       " 7902679173,\n",
       " 7927640876,\n",
       " 7953010186,\n",
       " 7973009179,\n",
       " 7978430294,\n",
       " 8013851438,\n",
       " 8038722430,\n",
       " 8063951927,\n",
       " 8083857235,\n",
       " 8089193918,\n",
       " 8124497057,\n",
       " 8149272419,\n",
       " 8174352514,\n",
       " 8194163534,\n",
       " 8199391914,\n",
       " 8234564433,\n",
       " 8259235678,\n",
       " 8284143516,\n",
       " 8303854267,\n",
       " 8308968610,\n",
       " 8344001165,\n",
       " 8368558834,\n",
       " 8393284893,\n",
       " 8412886871,\n",
       " 8417898561,\n",
       " 8452780244,\n",
       " 8477215748,\n",
       " 8501740464,\n",
       " 8521221486,\n",
       " 8526066011,\n",
       " 8560769713,\n",
       " 8585079362,\n",
       " 8609361242,\n",
       " 8628708377,\n",
       " 8633411528,\n",
       " 8667918217,\n",
       " 8692097185,\n",
       " 8716106601,\n",
       " 8735300755,\n",
       " 8739783815,\n",
       " 8774062448,\n",
       " 8798098429,\n",
       " 8821816826,\n",
       " 8840838512,\n",
       " 8845129935,\n",
       " 8879146790,\n",
       " 8903025417,\n",
       " 8926386233,\n",
       " 8945211817,\n",
       " 8949278695,\n",
       " 8982971153,\n",
       " 9006651671,\n",
       " 9029584948,\n",
       " 9048186903,\n",
       " 9052057067,\n",
       " 9085352307,\n",
       " 9108785641,\n",
       " 9131204972,\n",
       " 9149527544,\n",
       " 9153097494,\n",
       " 9185888661,\n",
       " 9208980844,\n",
       " 9230766123,\n",
       " 9248729374,\n",
       " 9251997058,\n",
       " 9284139572,\n",
       " 9306753777,\n",
       " 9327817638,\n",
       " 9345322375,\n",
       " 9348373734,\n",
       " 9379760895,\n",
       " 9401716448,\n",
       " 9421989287,\n",
       " 9438910124,\n",
       " 9441685232,\n",
       " 9472235184,\n",
       " 9493270073,\n",
       " 9512593650,\n",
       " 9528723057,\n",
       " 9531107036,\n",
       " 9560692490,\n",
       " 9580404223,\n",
       " 9598673623,\n",
       " 9613712871,\n",
       " 9615641597,\n",
       " 9644053730,\n",
       " 9661991439,\n",
       " 9678986087,\n",
       " 9692632173,\n",
       " 9693799965,\n",
       " 9720665156,\n",
       " 9736426825,\n",
       " 9751921656,\n",
       " 9763962824,\n",
       " 9764534106,\n",
       " 9789449498,\n",
       " 9802619270,\n",
       " 9816261009,\n",
       " 9826345342,\n",
       " 9826676254,\n",
       " 9849088940,\n",
       " 9859317123,\n",
       " 9870619600,\n",
       " 9877972910,\n",
       " 9877980550,\n",
       " 9896897124,\n",
       " 9904415253,\n",
       " 9912885362,\n",
       " 9917445152,\n",
       " 9917447603,\n",
       " 9932937606,\n",
       " 9938043066,\n",
       " 9942966452,\n",
       " 9945671261,\n",
       " 9945671781,\n",
       " 9956978040,\n",
       " 9959723020,\n",
       " 9961086579,\n",
       " 9962269949,\n",
       " 9962270060,\n",
       " 9968515773,\n",
       " 9969609815,\n",
       " 9969777977,\n",
       " 9970166293,\n",
       " 9970166293,\n",
       " 9972232254,\n",
       " 9972622745,\n",
       " 9972656626,\n",
       " 9972721896,\n",
       " 9972721896,\n",
       " 9973060808,\n",
       " 9973114420,\n",
       " 9973132607,\n",
       " 9973158827,\n",
       " 9973158827,\n",
       " 9973304553,\n",
       " 9973322009]"
      ]
     },
     "execution_count": 13,
     "metadata": {},
     "output_type": "execute_result"
    }
   ],
   "source": [
    "index_cum"
   ]
  },
  {
   "cell_type": "code",
   "execution_count": 14,
   "metadata": {},
   "outputs": [
    {
     "data": {
      "text/plain": [
       "[<matplotlib.lines.Line2D at 0x7fa57a54b828>]"
      ]
     },
     "execution_count": 14,
     "metadata": {},
     "output_type": "execute_result"
    },
    {
     "data": {
      "image/png": "[encoded data removed]",
      "text/plain": [
       "<Figure size 432x288 with 1 Axes>"
      ]
     },
     "metadata": {
      "needs_background": "light"
     },
     "output_type": "display_data"
    }
   ],
   "source": [
    "plt.plot(index_cum, '.-')"
   ]
  },
  {
   "cell_type": "code",
   "execution_count": null,
   "metadata": {},
   "outputs": [],
   "source": [
    "ds_index = ((ds.reset_coords()[['hFacC', 'hFacW','hFacS']] > 0)\n",
    "   .sum(axis=(1, 2, 3)))"
   ]
  },
  {
   "cell_type": "code",
   "execution_count": 13,
   "metadata": {},
   "outputs": [
    {
     "data": {
      "text/plain": [
       "dask.array<getitem, shape=(1, 13, 4320, 4320), dtype=int8, chunksize=(1, 13, 4320, 4320)>"
      ]
     },
     "execution_count": 13,
     "metadata": {},
     "output_type": "execute_result"
    }
   ],
   "source": [
    "mask_2d = mask[0][None]\n",
    "mask_2d"
   ]
  },
  {
   "cell_type": "code",
   "execution_count": 17,
   "metadata": {},
   "outputs": [
    {
     "data": {
      "text/plain": [
       "dask.array<getitem, shape=(1, 4320, 4320), dtype=int8, chunksize=(1, 4320, 4320)>"
      ]
     },
     "execution_count": 17,
     "metadata": {},
     "output_type": "execute_result"
    }
   ],
   "source": [
    "dsa.concatenate(mask_2d[:, slice(6, 7)], axis=1)"
   ]
  },
  {
   "cell_type": "code",
   "execution_count": 37,
   "metadata": {},
   "outputs": [
    {
     "data": {
      "text/plain": [
       "dask.array<getitem, shape=(1, 13, 4320, 4320), dtype=int8, chunksize=(1, 13, 4320, 4320)>"
      ]
     },
     "execution_count": 37,
     "metadata": {},
     "output_type": "execute_result"
    }
   ],
   "source": [
    "mask_2d"
   ]
  },
  {
   "cell_type": "code",
   "execution_count": 20,
   "metadata": {},
   "outputs": [],
   "source": [
    "\n",
    "_facet_strides = ((0,3), (3,6), (6,7), (7,10), (10,13))\n",
    "# whether to reshape each face\n",
    "_facet_reshape = (False, False, False, True, True)\n",
    "_nfaces = 13\n",
    "\n",
    "def _faces_to_facets(data):\n",
    "    # returns a list of facets\n",
    "    nz, nf, ny, nx = data.shape\n",
    "    assert nf == _nfaces\n",
    "    facets = []\n",
    "    for nfacet, (strides, reshape) in enumerate(zip(_facet_strides, _facet_reshape)):\n",
    "        face_data = [data[:, slice(nface, nface+1)] for nface in range(*strides)]\n",
    "        if reshape:\n",
    "            concat_axis = 3\n",
    "        else:\n",
    "            concat_axis = 2\n",
    "        # todo: use duck typing for concat\n",
    "        facet_data = dsa.concatenate(face_data, axis=concat_axis)\n",
    "        facets.append(facet_data)\n",
    "    return facets"
   ]
  },
  {
   "cell_type": "code",
   "execution_count": 21,
   "metadata": {},
   "outputs": [
    {
     "data": {
      "text/plain": [
       "[dask.array<concatenate, shape=(90, 1, 12960, 4320), dtype=bool, chunksize=(1, 1, 4320, 4320)>,\n",
       " dask.array<concatenate, shape=(90, 1, 12960, 4320), dtype=bool, chunksize=(1, 1, 4320, 4320)>,\n",
       " dask.array<getitem, shape=(90, 1, 4320, 4320), dtype=bool, chunksize=(1, 1, 4320, 4320)>,\n",
       " dask.array<concatenate, shape=(90, 1, 4320, 12960), dtype=bool, chunksize=(1, 1, 4320, 4320)>,\n",
       " dask.array<concatenate, shape=(90, 1, 4320, 12960), dtype=bool, chunksize=(1, 1, 4320, 4320)>]"
      ]
     },
     "execution_count": 21,
     "metadata": {},
     "output_type": "execute_result"
    }
   ],
   "source": [
    "facets = _faces_to_facets(mask)\n",
    "facets"
   ]
  },
  {
   "cell_type": "code",
   "execution_count": 15,
   "metadata": {},
   "outputs": [],
   "source": [
    "from llcreader import llcmodel"
   ]
  },
  {
   "cell_type": "code",
   "execution_count": 16,
   "metadata": {},
   "outputs": [],
   "source": [
    "from fsspec.implementations.local import LocalFileSystem"
   ]
  },
  {
   "cell_type": "code",
   "execution_count": 37,
   "metadata": {},
   "outputs": [],
   "source": [
    "fs = LocalFileSystem()\n",
    "path = '/Users/rpa/Code/llcreader/Eta.0000010368.data.shrunk'\n",
    "dtype = np.dtype('>f4')\n",
    "nk = 90\n",
    "nx = 4320"
   ]
  },
  {
   "cell_type": "code",
   "execution_count": 38,
   "metadata": {},
   "outputs": [
    {
     "data": {
      "text/plain": [
       "<module 'llcreader.llcmodel' from '/Users/rpa/Code/llcreader/llcreader/llcmodel.py'>"
      ]
     },
     "execution_count": 38,
     "metadata": {},
     "output_type": "execute_result"
    }
   ],
   "source": [
    "from importlib import reload\n",
    "llcmodel = reload(llcmodel)\n",
    "llcmodel"
   ]
  },
  {
   "cell_type": "code",
   "execution_count": 48,
   "metadata": {},
   "outputs": [
    {
     "data": {
      "text/plain": [
       "\u001b[0;31mDocstring:\u001b[0m\n",
       "ravel_multi_index(multi_index, dims, mode='raise', order='C')\n",
       "\n",
       "Converts a tuple of index arrays into an array of flat\n",
       "indices, applying boundary modes to the multi-index.\n",
       "\n",
       "Parameters\n",
       "----------\n",
       "multi_index : tuple of array_like\n",
       "    A tuple of integer arrays, one array for each dimension.\n",
       "dims : tuple of ints\n",
       "    The shape of array into which the indices from ``multi_index`` apply.\n",
       "mode : {'raise', 'wrap', 'clip'}, optional\n",
       "    Specifies how out-of-bounds indices are handled.  Can specify\n",
       "    either one mode or a tuple of modes, one mode per index.\n",
       "\n",
       "    * 'raise' -- raise an error (default)\n",
       "    * 'wrap' -- wrap around\n",
       "    * 'clip' -- clip to the range\n",
       "\n",
       "    In 'clip' mode, a negative index which would normally\n",
       "    wrap will clip to 0 instead.\n",
       "order : {'C', 'F'}, optional\n",
       "    Determines whether the multi-index should be viewed as\n",
       "    indexing in row-major (C-style) or column-major\n",
       "    (Fortran-style) order.\n",
       "\n",
       "Returns\n",
       "-------\n",
       "raveled_indices : ndarray\n",
       "    An array of indices into the flattened version of an array\n",
       "    of dimensions ``dims``.\n",
       "\n",
       "See Also\n",
       "--------\n",
       "unravel_index\n",
       "\n",
       "Notes\n",
       "-----\n",
       ".. versionadded:: 1.6.0\n",
       "\n",
       "Examples\n",
       "--------\n",
       ">>> arr = np.array([[3,6,6],[4,5,1]])\n",
       ">>> np.ravel_multi_index(arr, (7,6))\n",
       "array([22, 41, 37])\n",
       ">>> np.ravel_multi_index(arr, (7,6), order='F')\n",
       "array([31, 41, 13])\n",
       ">>> np.ravel_multi_index(arr, (4,6), mode='clip')\n",
       "array([22, 23, 19])\n",
       ">>> np.ravel_multi_index(arr, (4,4), mode=('clip','wrap'))\n",
       "array([12, 13, 13])\n",
       "\n",
       ">>> np.ravel_multi_index((3,1,4,1), (6,7,8,9))\n",
       "1621\n",
       "\u001b[0;31mType:\u001b[0m      builtin_function_or_method\n"
      ]
     },
     "metadata": {},
     "output_type": "display_data"
    }
   ],
   "source": [
    "np.ravel_multi_index?"
   ]
  },
  {
   "cell_type": "code",
   "execution_count": 52,
   "metadata": {},
   "outputs": [
    {
     "data": {
      "text/plain": [
       "dask.array<getitem, shape=(1, 4320, 12960), dtype=bool, chunksize=(1, 4320, 4320)>"
      ]
     },
     "execution_count": 52,
     "metadata": {},
     "output_type": "execute_result"
    }
   ],
   "source": [
    "facets[4][1]"
   ]
  },
  {
   "cell_type": "code",
   "execution_count": 54,
   "metadata": {},
   "outputs": [
    {
     "data": {
      "text/plain": [
       "51840"
      ]
     },
     "execution_count": 54,
     "metadata": {},
     "output_type": "execute_result"
    }
   ],
   "source": [
    "12960 * 4"
   ]
  },
  {
   "cell_type": "code",
   "execution_count": 49,
   "metadata": {},
   "outputs": [
    {
     "data": {
      "text/plain": [
       "<llcreader.llcmodel.LLCDataRequest at 0x7fa5b8d3d2b0>"
      ]
     },
     "execution_count": 49,
     "metadata": {},
     "output_type": "execute_result"
    }
   ],
   "source": [
    "dr = llcmodel.LLCDataRequest(fs, path, dtype, nk, nx, mask=facets, index=index_cum, klevels=[1])\n",
    "dr"
   ]
  },
  {
   "cell_type": "code",
   "execution_count": 53,
   "metadata": {},
   "outputs": [
    {
     "data": {
      "text/plain": [
       "[0,\n",
       " 30602155,\n",
       " 54676876,\n",
       " 68235120,\n",
       " 109163879,\n",
       " 140637966,\n",
       " 171240121,\n",
       " 195314842,\n",
       " 208873086,\n",
       " 249801845,\n",
       " 281275932,\n",
       " 311878087,\n",
       " 335952808,\n",
       " 349511052,\n",
       " 390439811,\n",
       " 421913898,\n",
       " 452516053,\n",
       " 476590774,\n",
       " 490149018,\n",
       " 531077777,\n",
       " 562551864,\n",
       " 593088331,\n",
       " 617052095,\n",
       " 630506834,\n",
       " 671365400,\n",
       " 702736069,\n",
       " 733238445,\n",
       " 757164783,\n",
       " 770580978,\n",
       " 811416669,\n",
       " 842743353,\n",
       " 873205456,\n",
       " 897071890,\n",
       " 910425041,\n",
       " 951230825,\n",
       " 982493335,\n",
       " 1012900517,\n",
       " 1036704557,\n",
       " 1049915884,\n",
       " 1090679932,\n",
       " 1121886564,\n",
       " 1152237518,\n",
       " 1175989376,\n",
       " 1189115612,\n",
       " 1229844239,\n",
       " 1260997777,\n",
       " 1291293387,\n",
       " 1314990298,\n",
       " 1327961666,\n",
       " 1368646832,\n",
       " 1399738524,\n",
       " 1429971598,\n",
       " 1453600032,\n",
       " 1466435977,\n",
       " 1507065309,\n",
       " 1538078770,\n",
       " 1568232413,\n",
       " 1591773562,\n",
       " 1604395293,\n",
       " 1644939361,\n",
       " 1675860918,\n",
       " 1705943639,\n",
       " 1729402193,\n",
       " 1741869003,\n",
       " 1782327979,\n",
       " 1813170623,\n",
       " 1843159862,\n",
       " 1866520380,\n",
       " 1878837709,\n",
       " 1919196195,\n",
       " 1949959935,\n",
       " 1979850337,\n",
       " 2003100083,\n",
       " 2015229013,\n",
       " 2055469488,\n",
       " 2086148293,\n",
       " 2115947740,\n",
       " 2139097777,\n",
       " 2150983604,\n",
       " 2191066949,\n",
       " 2221648359,\n",
       " 2251350543,\n",
       " 2274392811,\n",
       " 2286028080,\n",
       " 2325924007,\n",
       " 2356392114,\n",
       " 2385960359,\n",
       " 2408816853,\n",
       " 2420203109,\n",
       " 2459877435,\n",
       " 2490217054,\n",
       " 2519678416,\n",
       " 2542380501,\n",
       " 2553570276,\n",
       " 2593141555,\n",
       " 2623357264,\n",
       " 2652711916,\n",
       " 2675314344,\n",
       " 2686339659,\n",
       " 2725818490,\n",
       " 2755902771,\n",
       " 2785152560,\n",
       " 2807658538,\n",
       " 2818526378,\n",
       " 2857904628,\n",
       " 2887828109,\n",
       " 2916968915,\n",
       " 2939373405,\n",
       " 2950057573,\n",
       " 2989346758,\n",
       " 3019101354,\n",
       " 3048098549,\n",
       " 3070385298,\n",
       " 3080833398,\n",
       " 3120018528,\n",
       " 3149508390,\n",
       " 3178394453,\n",
       " 3200614402,\n",
       " 3210900462,\n",
       " 3250007626,\n",
       " 3279322134,\n",
       " 3308100976,\n",
       " 3330262754,\n",
       " 3340397261,\n",
       " 3379426284,\n",
       " 3408584466,\n",
       " 3437260234,\n",
       " 3459366488,\n",
       " 3469324885,\n",
       " 3508265313,\n",
       " 3537262149,\n",
       " 3565836917,\n",
       " 3587886994,\n",
       " 3597638882,\n",
       " 3636492956,\n",
       " 3665310324,\n",
       " 3693797270,\n",
       " 3715785624,\n",
       " 3725320778,\n",
       " 3764083861,\n",
       " 3792745766,\n",
       " 3821124304,\n",
       " 3843032679,\n",
       " 3852229002,\n",
       " 3890883765,\n",
       " 3919346220,\n",
       " 3947629992,\n",
       " 3969478130,\n",
       " 3978428366,\n",
       " 4017004855,\n",
       " 4045334464,\n",
       " 4073532386,\n",
       " 4095332342,\n",
       " 4103994945,\n",
       " 4142521781,\n",
       " 4170746509,\n",
       " 4198855210,\n",
       " 4220607634,\n",
       " 4228989433,\n",
       " 4267468277,\n",
       " 4295582969,\n",
       " 4323586325,\n",
       " 4345288981,\n",
       " 4353376474,\n",
       " 4391808756,\n",
       " 4419811184,\n",
       " 4447671119,\n",
       " 4469318824,\n",
       " 4477129332,\n",
       " 4515510316,\n",
       " 4543346285,\n",
       " 4571106397,\n",
       " 4592689589,\n",
       " 4600257693,\n",
       " 4638580422,\n",
       " 4666284639,\n",
       " 4693956228,\n",
       " 4715467436,\n",
       " 4722848937,\n",
       " 4761096974,\n",
       " 4788631656,\n",
       " 4816213337,\n",
       " 4837658988,\n",
       " 4844846354,\n",
       " 4882931166,\n",
       " 4910297061,\n",
       " 4937777246,\n",
       " 4959157618,\n",
       " 4966188638,\n",
       " 5004129178,\n",
       " 5031294418,\n",
       " 5058693448,\n",
       " 5080007677,\n",
       " 5086909324,\n",
       " 5124750941,\n",
       " 5151735503,\n",
       " 5179061075,\n",
       " 5200306218,\n",
       " 5207100352,\n",
       " 5244807713,\n",
       " 5271605833,\n",
       " 5298866013,\n",
       " 5320042161,\n",
       " 5326755556,\n",
       " 5364276381,\n",
       " 5390851548,\n",
       " 5418052799,\n",
       " 5439166296,\n",
       " 5445803675,\n",
       " 5483194351,\n",
       " 5509615928,\n",
       " 5536754217,\n",
       " 5557802993,\n",
       " 5564367037,\n",
       " 5601579060,\n",
       " 5627865766,\n",
       " 5654937599,\n",
       " 5675927205,\n",
       " 5682431176,\n",
       " 5719491085,\n",
       " 5745677045,\n",
       " 5772690348,\n",
       " 5793623518,\n",
       " 5800079338,\n",
       " 5837066485,\n",
       " 5863175371,\n",
       " 5890130867,\n",
       " 5911012583,\n",
       " 5917420860,\n",
       " 5954342271,\n",
       " 5980381294,\n",
       " 6007278894,\n",
       " 6028119672,\n",
       " 6034485052,\n",
       " 6071342783,\n",
       " 6097318860,\n",
       " 6124158038,\n",
       " 6144963980,\n",
       " 6151281570,\n",
       " 6188069335,\n",
       " 6213983491,\n",
       " 6240757155,\n",
       " 6261529853,\n",
       " 6267801161,\n",
       " 6304513069,\n",
       " 6330359481,\n",
       " 6357070314,\n",
       " 6377809314,\n",
       " 6384042871,\n",
       " 6420693900,\n",
       " 6446479451,\n",
       " 6473128103,\n",
       " 6493832566,\n",
       " 6500026637,\n",
       " 6536615832,\n",
       " 6562344768,\n",
       " 6588929930,\n",
       " 6609598742,\n",
       " 6615753898,\n",
       " 6652277218,\n",
       " 6677952673,\n",
       " 6704467138,\n",
       " 6725099444,\n",
       " 6731206423,\n",
       " 6767653504,\n",
       " 6793273994,\n",
       " 6819714167,\n",
       " 6840307840,\n",
       " 6846373002,\n",
       " 6882744393,\n",
       " 6908309378,\n",
       " 6934670408,\n",
       " 6955222518,\n",
       " 6961243879,\n",
       " 6997539390,\n",
       " 7023046396,\n",
       " 7049318451,\n",
       " 7069824819,\n",
       " 7075796679,\n",
       " 7112009820,\n",
       " 7137456851,\n",
       " 7163637402,\n",
       " 7184095515,\n",
       " 7189997353,\n",
       " 7226117354,\n",
       " 7251503347,\n",
       " 7277592617,\n",
       " 7297999880,\n",
       " 7303853290,\n",
       " 7339877908,\n",
       " 7365202320,\n",
       " 7391189853,\n",
       " 7411541647,\n",
       " 7417346992,\n",
       " 7453273420,\n",
       " 7478531712,\n",
       " 7504409328,\n",
       " 7524702136,\n",
       " 7530444382,\n",
       " 7566268987,\n",
       " 7591458136,\n",
       " 7617216520,\n",
       " 7637445266,\n",
       " 7643113217,\n",
       " 7678835848,\n",
       " 7703954279,\n",
       " 7729590347,\n",
       " 7749751767,\n",
       " 7755357037,\n",
       " 7790982689,\n",
       " 7816026766,\n",
       " 7841536283,\n",
       " 7861621972,\n",
       " 7867152304,\n",
       " 7902679173,\n",
       " 7927640876,\n",
       " 7953010186,\n",
       " 7973009179,\n",
       " 7978430294,\n",
       " 8013851438,\n",
       " 8038722430,\n",
       " 8063951927,\n",
       " 8083857235,\n",
       " 8089193918,\n",
       " 8124497057,\n",
       " 8149272419,\n",
       " 8174352514,\n",
       " 8194163534,\n",
       " 8199391914,\n",
       " 8234564433,\n",
       " 8259235678,\n",
       " 8284143516,\n",
       " 8303854267,\n",
       " 8308968610,\n",
       " 8344001165,\n",
       " 8368558834,\n",
       " 8393284893,\n",
       " 8412886871,\n",
       " 8417898561,\n",
       " 8452780244,\n",
       " 8477215748,\n",
       " 8501740464,\n",
       " 8521221486,\n",
       " 8526066011,\n",
       " 8560769713,\n",
       " 8585079362,\n",
       " 8609361242,\n",
       " 8628708377,\n",
       " 8633411528,\n",
       " 8667918217,\n",
       " 8692097185,\n",
       " 8716106601,\n",
       " 8735300755,\n",
       " 8739783815,\n",
       " 8774062448,\n",
       " 8798098429,\n",
       " 8821816826,\n",
       " 8840838512,\n",
       " 8845129935,\n",
       " 8879146790,\n",
       " 8903025417,\n",
       " 8926386233,\n",
       " 8945211817,\n",
       " 8949278695,\n",
       " 8982971153,\n",
       " 9006651671,\n",
       " 9029584948,\n",
       " 9048186903,\n",
       " 9052057067,\n",
       " 9085352307,\n",
       " 9108785641,\n",
       " 9131204972,\n",
       " 9149527544,\n",
       " 9153097494,\n",
       " 9185888661,\n",
       " 9208980844,\n",
       " 9230766123,\n",
       " 9248729374,\n",
       " 9251997058,\n",
       " 9284139572,\n",
       " 9306753777,\n",
       " 9327817638,\n",
       " 9345322375,\n",
       " 9348373734,\n",
       " 9379760895,\n",
       " 9401716448,\n",
       " 9421989287,\n",
       " 9438910124,\n",
       " 9441685232,\n",
       " 9472235184,\n",
       " 9493270073,\n",
       " 9512593650,\n",
       " 9528723057,\n",
       " 9531107036,\n",
       " 9560692490,\n",
       " 9580404223,\n",
       " 9598673623,\n",
       " 9613712871,\n",
       " 9615641597,\n",
       " 9644053730,\n",
       " 9661991439,\n",
       " 9678986087,\n",
       " 9692632173,\n",
       " 9693799965,\n",
       " 9720665156,\n",
       " 9736426825,\n",
       " 9751921656,\n",
       " 9763962824,\n",
       " 9764534106,\n",
       " 9789449498,\n",
       " 9802619270,\n",
       " 9816261009,\n",
       " 9826345342,\n",
       " 9826676254,\n",
       " 9849088940,\n",
       " 9859317123,\n",
       " 9870619600,\n",
       " 9877972910,\n",
       " 9877980550,\n",
       " 9896897124,\n",
       " 9904415253,\n",
       " 9912885362,\n",
       " 9917445152,\n",
       " 9917447603,\n",
       " 9932937606,\n",
       " 9938043066,\n",
       " 9942966452,\n",
       " 9945671261,\n",
       " 9945671781,\n",
       " 9956978040,\n",
       " 9959723020,\n",
       " 9961086579,\n",
       " 9962269949,\n",
       " 9962270060,\n",
       " 9968515773,\n",
       " 9969609815,\n",
       " 9969777977,\n",
       " 9970166293,\n",
       " 9970166293,\n",
       " 9972232254,\n",
       " 9972622745,\n",
       " 9972656626,\n",
       " 9972721896,\n",
       " 9972721896,\n",
       " 9973060808,\n",
       " 9973114420,\n",
       " 9973132607,\n",
       " 9973158827,\n",
       " 9973158827,\n",
       " 9973304553,\n",
       " 9973322009]"
      ]
     },
     "execution_count": 53,
     "metadata": {},
     "output_type": "execute_result"
    }
   ],
   "source": [
    "index_cum"
   ]
  },
  {
   "cell_type": "code",
   "execution_count": 50,
   "metadata": {},
   "outputs": [
    {
     "ename": "ValueError",
     "evalue": "NumPy boolean array indexing assignment cannot assign 0 input values to the 31474087 output values where the mask is true",
     "output_type": "error",
     "traceback": [
      "\u001b[0;31m---------------------------------------------------------------------------\u001b[0m",
      "\u001b[0;31mValueError\u001b[0m                                Traceback (most recent call last)",
      "\u001b[0;32m<ipython-input-50-97c7d5a0ea80>\u001b[0m in \u001b[0;36m<module>\u001b[0;34m\u001b[0m\n\u001b[0;32m----> 1\u001b[0;31m \u001b[0meta\u001b[0m \u001b[0;34m=\u001b[0m \u001b[0mdr\u001b[0m\u001b[0;34m.\u001b[0m\u001b[0m_build_facet_chunk\u001b[0m\u001b[0;34m(\u001b[0m\u001b[0;36m4\u001b[0m\u001b[0;34m)\u001b[0m\u001b[0;34m\u001b[0m\u001b[0;34m\u001b[0m\u001b[0m\n\u001b[0m\u001b[1;32m      2\u001b[0m \u001b[0meta\u001b[0m\u001b[0;34m.\u001b[0m\u001b[0mshape\u001b[0m\u001b[0;34m\u001b[0m\u001b[0;34m\u001b[0m\u001b[0m\n",
      "\u001b[0;32m~/Code/llcreader/llcreader/llcmodel.py\u001b[0m in \u001b[0;36m_build_facet_chunk\u001b[0;34m(self, nfacet)\u001b[0m\n\u001b[1;32m    160\u001b[0m             \u001b[0;32mif\u001b[0m \u001b[0mself\u001b[0m\u001b[0;34m.\u001b[0m\u001b[0mmask\u001b[0m\u001b[0;34m:\u001b[0m\u001b[0;34m\u001b[0m\u001b[0;34m\u001b[0m\u001b[0m\n\u001b[1;32m    161\u001b[0m                 \u001b[0mthis_mask\u001b[0m \u001b[0;34m=\u001b[0m \u001b[0mself\u001b[0m\u001b[0;34m.\u001b[0m\u001b[0mmask\u001b[0m\u001b[0;34m[\u001b[0m\u001b[0mnfacet\u001b[0m\u001b[0;34m]\u001b[0m\u001b[0;34m[\u001b[0m\u001b[0mk\u001b[0m\u001b[0;34m]\u001b[0m\u001b[0;34m.\u001b[0m\u001b[0mcompute\u001b[0m\u001b[0;34m(\u001b[0m\u001b[0;34m)\u001b[0m\u001b[0;34m\u001b[0m\u001b[0;34m\u001b[0m\u001b[0m\n\u001b[0;32m--> 162\u001b[0;31m                 \u001b[0mdata\u001b[0m \u001b[0;34m=\u001b[0m \u001b[0m_decompress\u001b[0m\u001b[0;34m(\u001b[0m\u001b[0mdata\u001b[0m\u001b[0;34m,\u001b[0m \u001b[0mthis_mask\u001b[0m\u001b[0;34m,\u001b[0m \u001b[0mself\u001b[0m\u001b[0;34m.\u001b[0m\u001b[0mdtype\u001b[0m\u001b[0;34m)\u001b[0m\u001b[0;34m\u001b[0m\u001b[0;34m\u001b[0m\u001b[0m\n\u001b[0m\u001b[1;32m    163\u001b[0m \u001b[0;34m\u001b[0m\u001b[0m\n\u001b[1;32m    164\u001b[0m             \u001b[0;31m# this is the shape this facet is supposed to have\u001b[0m\u001b[0;34m\u001b[0m\u001b[0;34m\u001b[0m\u001b[0;34m\u001b[0m\u001b[0m\n",
      "\u001b[0;32m~/Code/llcreader/llcreader/llcmodel.py\u001b[0m in \u001b[0;36m_decompress\u001b[0;34m(data, mask, dtype)\u001b[0m\n\u001b[1;32m     31\u001b[0m \u001b[0;32mdef\u001b[0m \u001b[0m_decompress\u001b[0m\u001b[0;34m(\u001b[0m\u001b[0mdata\u001b[0m\u001b[0;34m,\u001b[0m \u001b[0mmask\u001b[0m\u001b[0;34m,\u001b[0m \u001b[0mdtype\u001b[0m\u001b[0;34m)\u001b[0m\u001b[0;34m:\u001b[0m\u001b[0;34m\u001b[0m\u001b[0;34m\u001b[0m\u001b[0m\n\u001b[1;32m     32\u001b[0m     \u001b[0mdata_blank\u001b[0m \u001b[0;34m=\u001b[0m \u001b[0mnp\u001b[0m\u001b[0;34m.\u001b[0m\u001b[0mfull_like\u001b[0m\u001b[0;34m(\u001b[0m\u001b[0mmask\u001b[0m\u001b[0;34m,\u001b[0m \u001b[0mnp\u001b[0m\u001b[0;34m.\u001b[0m\u001b[0mnan\u001b[0m\u001b[0;34m,\u001b[0m \u001b[0mdtype\u001b[0m\u001b[0;34m=\u001b[0m\u001b[0mdtype\u001b[0m\u001b[0;34m)\u001b[0m\u001b[0;34m\u001b[0m\u001b[0;34m\u001b[0m\u001b[0m\n\u001b[0;32m---> 33\u001b[0;31m     \u001b[0mdata_blank\u001b[0m\u001b[0;34m[\u001b[0m\u001b[0mmask\u001b[0m\u001b[0;34m]\u001b[0m \u001b[0;34m=\u001b[0m \u001b[0mdata\u001b[0m\u001b[0;34m\u001b[0m\u001b[0;34m\u001b[0m\u001b[0m\n\u001b[0m\u001b[1;32m     34\u001b[0m     \u001b[0mdata_blank\u001b[0m\u001b[0;34m.\u001b[0m\u001b[0mshape\u001b[0m \u001b[0;34m=\u001b[0m \u001b[0mmask\u001b[0m\u001b[0;34m.\u001b[0m\u001b[0mshape\u001b[0m\u001b[0;34m\u001b[0m\u001b[0;34m\u001b[0m\u001b[0m\n\u001b[1;32m     35\u001b[0m     \u001b[0;32mreturn\u001b[0m \u001b[0mdata_blank\u001b[0m\u001b[0;34m\u001b[0m\u001b[0;34m\u001b[0m\u001b[0m\n",
      "\u001b[0;31mValueError\u001b[0m: NumPy boolean array indexing assignment cannot assign 0 input values to the 31474087 output values where the mask is true"
     ]
    }
   ],
   "source": [
    "eta = dr._build_facet_chunk(4)\n",
    "eta.shape"
   ]
  },
  {
   "cell_type": "code",
   "execution_count": 45,
   "metadata": {},
   "outputs": [
    {
     "data": {
      "text/plain": [
       "<matplotlib.collections.QuadMesh at 0x7fa5b8ca8a58>"
      ]
     },
     "execution_count": 45,
     "metadata": {},
     "output_type": "execute_result"
    },
    {
     "data": {
      "image/png": "[encoded data removed]",
      "text/plain": [
       "<Figure size 432x288 with 1 Axes>"
      ]
     },
     "metadata": {
      "needs_background": "light"
     },
     "output_type": "display_data"
    }
   ],
   "source": [
    "plt.pcolormesh(eta.squeeze()[::12, ::12])"
   ]
  },
  {
   "cell_type": "code",
   "execution_count": 69,
   "metadata": {},
   "outputs": [
    {
     "data": {
      "text/plain": [
       "[dask.array<from-value, shape=(1, 1, 12960, 4320), dtype=>f4, chunksize=(1, 1, 12960, 4320)>,\n",
       " dask.array<from-value, shape=(1, 1, 12960, 4320), dtype=>f4, chunksize=(1, 1, 12960, 4320)>,\n",
       " dask.array<from-value, shape=(1, 1, 4320, 4320), dtype=>f4, chunksize=(1, 1, 4320, 4320)>,\n",
       " dask.array<from-value, shape=(1, 1, 4320, 12960), dtype=>f4, chunksize=(1, 1, 4320, 12960)>,\n",
       " dask.array<from-value, shape=(1, 1, 4320, 12960), dtype=>f4, chunksize=(1, 1, 4320, 12960)>]"
      ]
     },
     "execution_count": 69,
     "metadata": {},
     "output_type": "execute_result"
    }
   ],
   "source": [
    "eta_facets = dr.facets()\n",
    "eta_facets"
   ]
  },
  {
   "cell_type": "code",
   "execution_count": 70,
   "metadata": {},
   "outputs": [
    {
     "name": "stderr",
     "output_type": "stream",
     "text": [
      "/Users/rpa/Code/llcreader/llcreader/llcmodel.py:33: FutureWarning: Using a non-tuple sequence for multidimensional indexing is deprecated; use `arr[tuple(seq)]` instead of `arr[seq]`. In the future this will be interpreted as an array index, `arr[np.array(seq)]`, which will result either in an error or a different result.\n",
      "  data_blank[mask] = data\n"
     ]
    },
    {
     "ename": "ValueError",
     "evalue": "shape mismatch: value array of shape (55987200,) could not be broadcast to indexing result of shape (12960,4320,12960,4320)",
     "output_type": "error",
     "traceback": [
      "\u001b[0;31m---------------------------------------------------------------------------\u001b[0m",
      "\u001b[0;31mValueError\u001b[0m                                Traceback (most recent call last)",
      "\u001b[0;32m<ipython-input-70-e98916678349>\u001b[0m in \u001b[0;36m<module>\u001b[0;34m\u001b[0m\n\u001b[0;32m----> 1\u001b[0;31m \u001b[0meta0\u001b[0m \u001b[0;34m=\u001b[0m \u001b[0meta_facets\u001b[0m\u001b[0;34m[\u001b[0m\u001b[0;36m0\u001b[0m\u001b[0;34m]\u001b[0m\u001b[0;34m.\u001b[0m\u001b[0mcompute\u001b[0m\u001b[0;34m(\u001b[0m\u001b[0;34m)\u001b[0m\u001b[0;34m\u001b[0m\u001b[0;34m\u001b[0m\u001b[0m\n\u001b[0m",
      "\u001b[0;32m~/anaconda/envs/pangeo/lib/python3.6/site-packages/dask/base.py\u001b[0m in \u001b[0;36mcompute\u001b[0;34m(self, **kwargs)\u001b[0m\n\u001b[1;32m    154\u001b[0m         \u001b[0mdask\u001b[0m\u001b[0;34m.\u001b[0m\u001b[0mbase\u001b[0m\u001b[0;34m.\u001b[0m\u001b[0mcompute\u001b[0m\u001b[0;34m\u001b[0m\u001b[0;34m\u001b[0m\u001b[0m\n\u001b[1;32m    155\u001b[0m         \"\"\"\n\u001b[0;32m--> 156\u001b[0;31m         \u001b[0;34m(\u001b[0m\u001b[0mresult\u001b[0m\u001b[0;34m,\u001b[0m\u001b[0;34m)\u001b[0m \u001b[0;34m=\u001b[0m \u001b[0mcompute\u001b[0m\u001b[0;34m(\u001b[0m\u001b[0mself\u001b[0m\u001b[0;34m,\u001b[0m \u001b[0mtraverse\u001b[0m\u001b[0;34m=\u001b[0m\u001b[0;32mFalse\u001b[0m\u001b[0;34m,\u001b[0m \u001b[0;34m**\u001b[0m\u001b[0mkwargs\u001b[0m\u001b[0;34m)\u001b[0m\u001b[0;34m\u001b[0m\u001b[0;34m\u001b[0m\u001b[0m\n\u001b[0m\u001b[1;32m    157\u001b[0m         \u001b[0;32mreturn\u001b[0m \u001b[0mresult\u001b[0m\u001b[0;34m\u001b[0m\u001b[0;34m\u001b[0m\u001b[0m\n\u001b[1;32m    158\u001b[0m \u001b[0;34m\u001b[0m\u001b[0m\n",
      "\u001b[0;32m~/anaconda/envs/pangeo/lib/python3.6/site-packages/dask/base.py\u001b[0m in \u001b[0;36mcompute\u001b[0;34m(*args, **kwargs)\u001b[0m\n\u001b[1;32m    396\u001b[0m     \u001b[0mkeys\u001b[0m \u001b[0;34m=\u001b[0m \u001b[0;34m[\u001b[0m\u001b[0mx\u001b[0m\u001b[0;34m.\u001b[0m\u001b[0m__dask_keys__\u001b[0m\u001b[0;34m(\u001b[0m\u001b[0;34m)\u001b[0m \u001b[0;32mfor\u001b[0m \u001b[0mx\u001b[0m \u001b[0;32min\u001b[0m \u001b[0mcollections\u001b[0m\u001b[0;34m]\u001b[0m\u001b[0;34m\u001b[0m\u001b[0;34m\u001b[0m\u001b[0m\n\u001b[1;32m    397\u001b[0m     \u001b[0mpostcomputes\u001b[0m \u001b[0;34m=\u001b[0m \u001b[0;34m[\u001b[0m\u001b[0mx\u001b[0m\u001b[0;34m.\u001b[0m\u001b[0m__dask_postcompute__\u001b[0m\u001b[0;34m(\u001b[0m\u001b[0;34m)\u001b[0m \u001b[0;32mfor\u001b[0m \u001b[0mx\u001b[0m \u001b[0;32min\u001b[0m \u001b[0mcollections\u001b[0m\u001b[0;34m]\u001b[0m\u001b[0;34m\u001b[0m\u001b[0;34m\u001b[0m\u001b[0m\n\u001b[0;32m--> 398\u001b[0;31m     \u001b[0mresults\u001b[0m \u001b[0;34m=\u001b[0m \u001b[0mschedule\u001b[0m\u001b[0;34m(\u001b[0m\u001b[0mdsk\u001b[0m\u001b[0;34m,\u001b[0m \u001b[0mkeys\u001b[0m\u001b[0;34m,\u001b[0m \u001b[0;34m**\u001b[0m\u001b[0mkwargs\u001b[0m\u001b[0;34m)\u001b[0m\u001b[0;34m\u001b[0m\u001b[0;34m\u001b[0m\u001b[0m\n\u001b[0m\u001b[1;32m    399\u001b[0m     \u001b[0;32mreturn\u001b[0m \u001b[0mrepack\u001b[0m\u001b[0;34m(\u001b[0m\u001b[0;34m[\u001b[0m\u001b[0mf\u001b[0m\u001b[0;34m(\u001b[0m\u001b[0mr\u001b[0m\u001b[0;34m,\u001b[0m \u001b[0;34m*\u001b[0m\u001b[0ma\u001b[0m\u001b[0;34m)\u001b[0m \u001b[0;32mfor\u001b[0m \u001b[0mr\u001b[0m\u001b[0;34m,\u001b[0m \u001b[0;34m(\u001b[0m\u001b[0mf\u001b[0m\u001b[0;34m,\u001b[0m \u001b[0ma\u001b[0m\u001b[0;34m)\u001b[0m \u001b[0;32min\u001b[0m \u001b[0mzip\u001b[0m\u001b[0;34m(\u001b[0m\u001b[0mresults\u001b[0m\u001b[0;34m,\u001b[0m \u001b[0mpostcomputes\u001b[0m\u001b[0;34m)\u001b[0m\u001b[0;34m]\u001b[0m\u001b[0;34m)\u001b[0m\u001b[0;34m\u001b[0m\u001b[0;34m\u001b[0m\u001b[0m\n\u001b[1;32m    400\u001b[0m \u001b[0;34m\u001b[0m\u001b[0m\n",
      "\u001b[0;32m~/anaconda/envs/pangeo/lib/python3.6/site-packages/dask/threaded.py\u001b[0m in \u001b[0;36mget\u001b[0;34m(dsk, result, cache, num_workers, pool, **kwargs)\u001b[0m\n\u001b[1;32m     74\u001b[0m     results = get_async(pool.apply_async, len(pool._pool), dsk, result,\n\u001b[1;32m     75\u001b[0m                         \u001b[0mcache\u001b[0m\u001b[0;34m=\u001b[0m\u001b[0mcache\u001b[0m\u001b[0;34m,\u001b[0m \u001b[0mget_id\u001b[0m\u001b[0;34m=\u001b[0m\u001b[0m_thread_get_id\u001b[0m\u001b[0;34m,\u001b[0m\u001b[0;34m\u001b[0m\u001b[0;34m\u001b[0m\u001b[0m\n\u001b[0;32m---> 76\u001b[0;31m                         pack_exception=pack_exception, **kwargs)\n\u001b[0m\u001b[1;32m     77\u001b[0m \u001b[0;34m\u001b[0m\u001b[0m\n\u001b[1;32m     78\u001b[0m     \u001b[0;31m# Cleanup pools associated to dead threads\u001b[0m\u001b[0;34m\u001b[0m\u001b[0;34m\u001b[0m\u001b[0;34m\u001b[0m\u001b[0m\n",
      "\u001b[0;32m~/anaconda/envs/pangeo/lib/python3.6/site-packages/dask/local.py\u001b[0m in \u001b[0;36mget_async\u001b[0;34m(apply_async, num_workers, dsk, result, cache, get_id, rerun_exceptions_locally, pack_exception, raise_exception, callbacks, dumps, loads, **kwargs)\u001b[0m\n\u001b[1;32m    460\u001b[0m                         \u001b[0m_execute_task\u001b[0m\u001b[0;34m(\u001b[0m\u001b[0mtask\u001b[0m\u001b[0;34m,\u001b[0m \u001b[0mdata\u001b[0m\u001b[0;34m)\u001b[0m  \u001b[0;31m# Re-execute locally\u001b[0m\u001b[0;34m\u001b[0m\u001b[0;34m\u001b[0m\u001b[0m\n\u001b[1;32m    461\u001b[0m                     \u001b[0;32melse\u001b[0m\u001b[0;34m:\u001b[0m\u001b[0;34m\u001b[0m\u001b[0;34m\u001b[0m\u001b[0m\n\u001b[0;32m--> 462\u001b[0;31m                         \u001b[0mraise_exception\u001b[0m\u001b[0;34m(\u001b[0m\u001b[0mexc\u001b[0m\u001b[0;34m,\u001b[0m \u001b[0mtb\u001b[0m\u001b[0;34m)\u001b[0m\u001b[0;34m\u001b[0m\u001b[0;34m\u001b[0m\u001b[0m\n\u001b[0m\u001b[1;32m    463\u001b[0m                 \u001b[0mres\u001b[0m\u001b[0;34m,\u001b[0m \u001b[0mworker_id\u001b[0m \u001b[0;34m=\u001b[0m \u001b[0mloads\u001b[0m\u001b[0;34m(\u001b[0m\u001b[0mres_info\u001b[0m\u001b[0;34m)\u001b[0m\u001b[0;34m\u001b[0m\u001b[0;34m\u001b[0m\u001b[0m\n\u001b[1;32m    464\u001b[0m                 \u001b[0mstate\u001b[0m\u001b[0;34m[\u001b[0m\u001b[0;34m'cache'\u001b[0m\u001b[0;34m]\u001b[0m\u001b[0;34m[\u001b[0m\u001b[0mkey\u001b[0m\u001b[0;34m]\u001b[0m \u001b[0;34m=\u001b[0m \u001b[0mres\u001b[0m\u001b[0;34m\u001b[0m\u001b[0;34m\u001b[0m\u001b[0m\n",
      "\u001b[0;32m~/anaconda/envs/pangeo/lib/python3.6/site-packages/dask/compatibility.py\u001b[0m in \u001b[0;36mreraise\u001b[0;34m(exc, tb)\u001b[0m\n\u001b[1;32m    110\u001b[0m         \u001b[0;32mif\u001b[0m \u001b[0mexc\u001b[0m\u001b[0;34m.\u001b[0m\u001b[0m__traceback__\u001b[0m \u001b[0;32mis\u001b[0m \u001b[0;32mnot\u001b[0m \u001b[0mtb\u001b[0m\u001b[0;34m:\u001b[0m\u001b[0;34m\u001b[0m\u001b[0;34m\u001b[0m\u001b[0m\n\u001b[1;32m    111\u001b[0m             \u001b[0;32mraise\u001b[0m \u001b[0mexc\u001b[0m\u001b[0;34m.\u001b[0m\u001b[0mwith_traceback\u001b[0m\u001b[0;34m(\u001b[0m\u001b[0mtb\u001b[0m\u001b[0;34m)\u001b[0m\u001b[0;34m\u001b[0m\u001b[0;34m\u001b[0m\u001b[0m\n\u001b[0;32m--> 112\u001b[0;31m         \u001b[0;32mraise\u001b[0m \u001b[0mexc\u001b[0m\u001b[0;34m\u001b[0m\u001b[0;34m\u001b[0m\u001b[0m\n\u001b[0m\u001b[1;32m    113\u001b[0m \u001b[0;34m\u001b[0m\u001b[0m\n\u001b[1;32m    114\u001b[0m     \u001b[0;32mimport\u001b[0m \u001b[0mpickle\u001b[0m \u001b[0;32mas\u001b[0m \u001b[0mcPickle\u001b[0m\u001b[0;34m\u001b[0m\u001b[0;34m\u001b[0m\u001b[0m\n",
      "\u001b[0;32m~/anaconda/envs/pangeo/lib/python3.6/site-packages/dask/local.py\u001b[0m in \u001b[0;36mexecute_task\u001b[0;34m(key, task_info, dumps, loads, get_id, pack_exception)\u001b[0m\n\u001b[1;32m    228\u001b[0m     \u001b[0;32mtry\u001b[0m\u001b[0;34m:\u001b[0m\u001b[0;34m\u001b[0m\u001b[0;34m\u001b[0m\u001b[0m\n\u001b[1;32m    229\u001b[0m         \u001b[0mtask\u001b[0m\u001b[0;34m,\u001b[0m \u001b[0mdata\u001b[0m \u001b[0;34m=\u001b[0m \u001b[0mloads\u001b[0m\u001b[0;34m(\u001b[0m\u001b[0mtask_info\u001b[0m\u001b[0;34m)\u001b[0m\u001b[0;34m\u001b[0m\u001b[0;34m\u001b[0m\u001b[0m\n\u001b[0;32m--> 230\u001b[0;31m         \u001b[0mresult\u001b[0m \u001b[0;34m=\u001b[0m \u001b[0m_execute_task\u001b[0m\u001b[0;34m(\u001b[0m\u001b[0mtask\u001b[0m\u001b[0;34m,\u001b[0m \u001b[0mdata\u001b[0m\u001b[0;34m)\u001b[0m\u001b[0;34m\u001b[0m\u001b[0;34m\u001b[0m\u001b[0m\n\u001b[0m\u001b[1;32m    231\u001b[0m         \u001b[0mid\u001b[0m \u001b[0;34m=\u001b[0m \u001b[0mget_id\u001b[0m\u001b[0;34m(\u001b[0m\u001b[0;34m)\u001b[0m\u001b[0;34m\u001b[0m\u001b[0;34m\u001b[0m\u001b[0m\n\u001b[1;32m    232\u001b[0m         \u001b[0mresult\u001b[0m \u001b[0;34m=\u001b[0m \u001b[0mdumps\u001b[0m\u001b[0;34m(\u001b[0m\u001b[0;34m(\u001b[0m\u001b[0mresult\u001b[0m\u001b[0;34m,\u001b[0m \u001b[0mid\u001b[0m\u001b[0;34m)\u001b[0m\u001b[0;34m)\u001b[0m\u001b[0;34m\u001b[0m\u001b[0;34m\u001b[0m\u001b[0m\n",
      "\u001b[0;32m~/anaconda/envs/pangeo/lib/python3.6/site-packages/dask/core.py\u001b[0m in \u001b[0;36m_execute_task\u001b[0;34m(arg, cache, dsk)\u001b[0m\n\u001b[1;32m    117\u001b[0m         \u001b[0mfunc\u001b[0m\u001b[0;34m,\u001b[0m \u001b[0margs\u001b[0m \u001b[0;34m=\u001b[0m \u001b[0marg\u001b[0m\u001b[0;34m[\u001b[0m\u001b[0;36m0\u001b[0m\u001b[0;34m]\u001b[0m\u001b[0;34m,\u001b[0m \u001b[0marg\u001b[0m\u001b[0;34m[\u001b[0m\u001b[0;36m1\u001b[0m\u001b[0;34m:\u001b[0m\u001b[0;34m]\u001b[0m\u001b[0;34m\u001b[0m\u001b[0;34m\u001b[0m\u001b[0m\n\u001b[1;32m    118\u001b[0m         \u001b[0margs2\u001b[0m \u001b[0;34m=\u001b[0m \u001b[0;34m[\u001b[0m\u001b[0m_execute_task\u001b[0m\u001b[0;34m(\u001b[0m\u001b[0ma\u001b[0m\u001b[0;34m,\u001b[0m \u001b[0mcache\u001b[0m\u001b[0;34m)\u001b[0m \u001b[0;32mfor\u001b[0m \u001b[0ma\u001b[0m \u001b[0;32min\u001b[0m \u001b[0margs\u001b[0m\u001b[0;34m]\u001b[0m\u001b[0;34m\u001b[0m\u001b[0;34m\u001b[0m\u001b[0m\n\u001b[0;32m--> 119\u001b[0;31m         \u001b[0;32mreturn\u001b[0m \u001b[0mfunc\u001b[0m\u001b[0;34m(\u001b[0m\u001b[0;34m*\u001b[0m\u001b[0margs2\u001b[0m\u001b[0;34m)\u001b[0m\u001b[0;34m\u001b[0m\u001b[0;34m\u001b[0m\u001b[0m\n\u001b[0m\u001b[1;32m    120\u001b[0m     \u001b[0;32melif\u001b[0m \u001b[0;32mnot\u001b[0m \u001b[0mishashable\u001b[0m\u001b[0;34m(\u001b[0m\u001b[0marg\u001b[0m\u001b[0;34m)\u001b[0m\u001b[0;34m:\u001b[0m\u001b[0;34m\u001b[0m\u001b[0;34m\u001b[0m\u001b[0m\n\u001b[1;32m    121\u001b[0m         \u001b[0;32mreturn\u001b[0m \u001b[0marg\u001b[0m\u001b[0;34m\u001b[0m\u001b[0;34m\u001b[0m\u001b[0m\n",
      "\u001b[0;32m~/Code/llcreader/llcreader/llcmodel.py\u001b[0m in \u001b[0;36m_build_facet_chunk\u001b[0;34m(self, nfacet)\u001b[0m\n\u001b[1;32m    158\u001b[0m             \u001b[0;32mif\u001b[0m \u001b[0mself\u001b[0m\u001b[0;34m.\u001b[0m\u001b[0mmask\u001b[0m\u001b[0;34m:\u001b[0m\u001b[0;34m\u001b[0m\u001b[0;34m\u001b[0m\u001b[0m\n\u001b[1;32m    159\u001b[0m                 \u001b[0mthis_mask\u001b[0m \u001b[0;34m=\u001b[0m \u001b[0mself\u001b[0m\u001b[0;34m.\u001b[0m\u001b[0mmask\u001b[0m\u001b[0;34m[\u001b[0m\u001b[0mnfacet\u001b[0m\u001b[0;34m]\u001b[0m\u001b[0;34m[\u001b[0m\u001b[0mk\u001b[0m\u001b[0;34m]\u001b[0m\u001b[0;34m\u001b[0m\u001b[0;34m\u001b[0m\u001b[0m\n\u001b[0;32m--> 160\u001b[0;31m                 \u001b[0mdata\u001b[0m \u001b[0;34m=\u001b[0m \u001b[0m_decompress\u001b[0m\u001b[0;34m(\u001b[0m\u001b[0mdata\u001b[0m\u001b[0;34m,\u001b[0m \u001b[0mthis_mask\u001b[0m\u001b[0;34m,\u001b[0m \u001b[0mself\u001b[0m\u001b[0;34m.\u001b[0m\u001b[0mdtype\u001b[0m\u001b[0;34m)\u001b[0m\u001b[0;34m\u001b[0m\u001b[0;34m\u001b[0m\u001b[0m\n\u001b[0m\u001b[1;32m    161\u001b[0m \u001b[0;34m\u001b[0m\u001b[0m\n\u001b[1;32m    162\u001b[0m             \u001b[0;31m# this is the shape this facet is supposed to have\u001b[0m\u001b[0;34m\u001b[0m\u001b[0;34m\u001b[0m\u001b[0;34m\u001b[0m\u001b[0m\n",
      "\u001b[0;32m~/Code/llcreader/llcreader/llcmodel.py\u001b[0m in \u001b[0;36m_decompress\u001b[0;34m(data, mask, dtype)\u001b[0m\n\u001b[1;32m     31\u001b[0m \u001b[0;32mdef\u001b[0m \u001b[0m_decompress\u001b[0m\u001b[0;34m(\u001b[0m\u001b[0mdata\u001b[0m\u001b[0;34m,\u001b[0m \u001b[0mmask\u001b[0m\u001b[0;34m,\u001b[0m \u001b[0mdtype\u001b[0m\u001b[0;34m)\u001b[0m\u001b[0;34m:\u001b[0m\u001b[0;34m\u001b[0m\u001b[0;34m\u001b[0m\u001b[0m\n\u001b[1;32m     32\u001b[0m     \u001b[0mdata_blank\u001b[0m \u001b[0;34m=\u001b[0m \u001b[0mnp\u001b[0m\u001b[0;34m.\u001b[0m\u001b[0mfull_like\u001b[0m\u001b[0;34m(\u001b[0m\u001b[0mmask\u001b[0m\u001b[0;34m,\u001b[0m \u001b[0mnp\u001b[0m\u001b[0;34m.\u001b[0m\u001b[0mnan\u001b[0m\u001b[0;34m,\u001b[0m \u001b[0mdtype\u001b[0m\u001b[0;34m=\u001b[0m\u001b[0mdtype\u001b[0m\u001b[0;34m)\u001b[0m\u001b[0;34m\u001b[0m\u001b[0;34m\u001b[0m\u001b[0m\n\u001b[0;32m---> 33\u001b[0;31m     \u001b[0mdata_blank\u001b[0m\u001b[0;34m[\u001b[0m\u001b[0mmask\u001b[0m\u001b[0;34m]\u001b[0m \u001b[0;34m=\u001b[0m \u001b[0mdata\u001b[0m\u001b[0;34m\u001b[0m\u001b[0;34m\u001b[0m\u001b[0m\n\u001b[0m\u001b[1;32m     34\u001b[0m     \u001b[0mdata_blank\u001b[0m\u001b[0;34m.\u001b[0m\u001b[0mshape\u001b[0m \u001b[0;34m=\u001b[0m \u001b[0mmask\u001b[0m\u001b[0;34m.\u001b[0m\u001b[0mshape\u001b[0m\u001b[0;34m\u001b[0m\u001b[0;34m\u001b[0m\u001b[0m\n\u001b[1;32m     35\u001b[0m     \u001b[0;32mreturn\u001b[0m \u001b[0mdata\u001b[0m\u001b[0;34m.\u001b[0m\u001b[0mblank\u001b[0m\u001b[0;34m\u001b[0m\u001b[0;34m\u001b[0m\u001b[0m\n",
      "\u001b[0;31mValueError\u001b[0m: shape mismatch: value array of shape (55987200,) could not be broadcast to indexing result of shape (12960,4320,12960,4320)"
     ]
    }
   ],
   "source": [
    "eta0 = eta_facets[0].compute()"
   ]
  },
  {
   "cell_type": "code",
   "execution_count": 49,
   "metadata": {},
   "outputs": [],
   "source": [
    "f0 = facets[0].compute()"
   ]
  },
  {
   "cell_type": "code",
   "execution_count": 50,
   "metadata": {},
   "outputs": [
    {
     "data": {
      "text/plain": [
       "<matplotlib.collections.QuadMesh at 0x7ff6e15fb8d0>"
      ]
     },
     "execution_count": 50,
     "metadata": {},
     "output_type": "execute_result"
    },
    {
     "data": {
      "image/png": "[encoded data removed]",
      "text/plain": [
       "<Figure size 432x288 with 1 Axes>"
      ]
     },
     "metadata": {
      "needs_background": "light"
     },
     "output_type": "display_data"
    }
   ],
   "source": [
    "plt.pcolormesh(f0[0, 0, ::12, ::12])"
   ]
  },
  {
   "cell_type": "code",
   "execution_count": 51,
   "metadata": {},
   "outputs": [],
   "source": [
    "f4 = facets[4].compute()"
   ]
  },
  {
   "cell_type": "code",
   "execution_count": 53,
   "metadata": {},
   "outputs": [
    {
     "data": {
      "text/plain": [
       "<matplotlib.collections.QuadMesh at 0x7ff6b1002198>"
      ]
     },
     "execution_count": 53,
     "metadata": {},
     "output_type": "execute_result"
    },
    {
     "data": {
      "image/png": "[encoded data removed]",
      "text/plain": [
       "<Figure size 432x288 with 1 Axes>"
      ]
     },
     "metadata": {
      "needs_background": "light"
     },
     "output_type": "display_data"
    }
   ],
   "source": [
    "plt.pcolormesh(f4[0, 0, ::12, ::12])"
   ]
  },
  {
   "cell_type": "code",
   "execution_count": null,
   "metadata": {},
   "outputs": [],
   "source": []
  }
 ],
 "metadata": {
  "kernelspec": {
   "display_name": "Python 3",
   "language": "python",
   "name": "python3"
  },
  "language_info": {
   "codemirror_mode": {
    "name": "ipython",
    "version": 3
   },
   "file_extension": ".py",
   "mimetype": "text/x-python",
   "name": "python",
   "nbconvert_exporter": "python",
   "pygments_lexer": "ipython3",
   "version": "3.6.7"
  }
 },
 "nbformat": 4,
 "nbformat_minor": 2
}
